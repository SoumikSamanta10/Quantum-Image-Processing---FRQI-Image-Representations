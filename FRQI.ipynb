{
 "cells": [
  {
   "cell_type": "code",
   "execution_count": 12,
   "id": "1fe5c07d-82cc-43c3-85aa-6e52ae8da74b",
   "metadata": {
    "tags": []
   },
   "outputs": [],
   "source": [
    "# Importing standard Qiskit libraries\n",
    "from qiskit import QuantumCircuit, transpile, execute\n",
    "from qiskit.tools.jupyter import *\n",
    "from qiskit.visualization import *\n",
    "from ibm_quantum_widgets import *\n",
    "from qiskit_aer import AerSimulator\n",
    "\n",
    "# qiskit-ibmq-provider has been deprecated.\n",
    "# Please see the Migration Guides in https://ibm.biz/provider_migration_guide for more detail.\n",
    "from qiskit_ibm_runtime import QiskitRuntimeService, Sampler, Estimator, Session, Options\n",
    "\n",
    "# Loading your IBM Quantum account(s)\n",
    "service = QiskitRuntimeService(channel=\"ibm_quantum\")\n",
    "\n",
    "# Invoke a primitive inside a session. For more details see https://qiskit.org/documentation/partners/qiskit_ibm_runtime/tutorials.html\n",
    "# with Session(backend=service.backend(\"ibmq_qasm_simulator\")):\n",
    "#     result = Sampler().run(circuits).result()"
   ]
  },
  {
   "cell_type": "code",
   "execution_count": 8,
   "id": "534b205b-9db6-4ae6-8d91-4b5092e3c73b",
   "metadata": {
    "tags": []
   },
   "outputs": [
    {
     "name": "stdout",
     "output_type": "stream",
     "text": [
      "        ┌───┐ ░                                       ░                    »\n",
      "   q_0: ┤ H ├─░─────■──────■─────────────■────────────░──────────■──────■──»\n",
      "        ├───┤ ░     │    ┌─┴─┐         ┌─┴─┐          ░ ┌───┐    │    ┌─┴─┐»\n",
      "   q_1: ┤ H ├─░─────┼────┤ X ├────■────┤ X ├────■─────░─┤ X ├────┼────┤ X ├»\n",
      "        └───┘ ░ ┌───┴───┐└───┘┌───┴───┐└───┘┌───┴───┐ ░ └───┘┌───┴───┐└───┘»\n",
      "   q_2: ──────░─┤ Ry(0) ├─────┤ Ry(0) ├─────┤ Ry(0) ├─░──────┤ Ry(0) ├─────»\n",
      "              ░ └───────┘     └───────┘     └───────┘ ░      └───────┘     »\n",
      "meas: 3/═══════════════════════════════════════════════════════════════════»\n",
      "                                                                           »\n",
      "«                                ░ ┌───┐                                     »\n",
      "«   q_0: ───────────■────────────░─┤ X ├────■──────■─────────────■───────────»\n",
      "«                 ┌─┴─┐          ░ ├───┤    │    ┌─┴─┐         ┌─┴─┐         »\n",
      "«   q_1: ────■────┤ X ├────■─────░─┤ X ├────┼────┤ X ├────■────┤ X ├────■────»\n",
      "«        ┌───┴───┐└───┘┌───┴───┐ ░ └───┘┌───┴───┐└───┘┌───┴───┐└───┘┌───┴───┐»\n",
      "«   q_2: ┤ Ry(0) ├─────┤ Ry(0) ├─░──────┤ Ry(0) ├─────┤ Ry(0) ├─────┤ Ry(0) ├»\n",
      "«        └───────┘     └───────┘ ░      └───────┘     └───────┘     └───────┘»\n",
      "«meas: 3/════════════════════════════════════════════════════════════════════»\n",
      "«                                                                            »\n",
      "«         ░                                            ░ ┌─┐      \n",
      "«   q_0: ─░──────────■──────■─────────────■────────────░─┤M├──────\n",
      "«         ░ ┌───┐    │    ┌─┴─┐         ┌─┴─┐          ░ └╥┘┌─┐   \n",
      "«   q_1: ─░─┤ X ├────┼────┤ X ├────■────┤ X ├────■─────░──╫─┤M├───\n",
      "«         ░ └───┘┌───┴───┐└───┘┌───┴───┐└───┘┌───┴───┐ ░  ║ └╥┘┌─┐\n",
      "«   q_2: ─░──────┤ Ry(0) ├─────┤ Ry(0) ├─────┤ Ry(0) ├─░──╫──╫─┤M├\n",
      "«         ░      └───────┘     └───────┘     └───────┘ ░  ║  ║ └╥┘\n",
      "«meas: 3/═════════════════════════════════════════════════╩══╩══╩═\n",
      "«                                                         0  1  2 \n"
     ]
    }
   ],
   "source": [
    "theta = 0 # all pixels black\n",
    "qc = QuantumCircuit(3)\n",
    "\n",
    "\n",
    "qc.h(0)\n",
    "qc.h(1)\n",
    "\n",
    "qc.barrier()\n",
    "#Pixel 1\n",
    "\n",
    "qc.cry(theta,0,2)\n",
    "qc.cx(0,1)\n",
    "qc.cry(-theta,1,2)\n",
    "qc.cx(0,1)\n",
    "qc.cry(theta,1,2)\n",
    "\n",
    "qc.barrier()\n",
    "#Pixel 2\n",
    "\n",
    "qc.x(1)\n",
    "qc.cry(theta,0,2)\n",
    "qc.cx(0,1)\n",
    "qc.cry(-theta,1,2)\n",
    "qc.cx(0,1)\n",
    "qc.cry(theta,1,2)\n",
    "\n",
    "qc.barrier()\n",
    "\n",
    "qc.x(1)\n",
    "qc.x(0)\n",
    "qc.cry(theta,0,2)\n",
    "qc.cx(0,1)\n",
    "qc.cry(-theta,1,2)\n",
    "qc.cx(0,1)\n",
    "qc.cry(theta,1,2)\n",
    "\n",
    "\n",
    "qc.barrier()\n",
    "\n",
    "qc.x(1)\n",
    "\n",
    "qc.cry(theta,0,2)\n",
    "qc.cx(0,1)\n",
    "qc.cry(-theta,1,2)\n",
    "qc.cx(0,1)\n",
    "qc.cry(theta,1,2)\n",
    "\n",
    "qc.measure_all()\n",
    "\n",
    "print(qc)"
   ]
  },
  {
   "cell_type": "code",
   "execution_count": 13,
   "id": "e18d9ab5-3f1f-4ca3-9696-3cd3c5dedc3f",
   "metadata": {
    "tags": []
   },
   "outputs": [
    {
     "data": {
      "image/png": "[encoded data removed]",
      "text/plain": [
       "<Figure size 700x500 with 1 Axes>"
      ]
     },
     "execution_count": 13,
     "metadata": {},
     "output_type": "execute_result"
    }
   ],
   "source": [
    "backend = Aer.get_backend('qasm_simulator')\n",
    "job = execute(qc, backend = backend, shots = 1024)\n",
    "\n",
    "results = job.result()\n",
    "plot_histogram(results.get_counts(qc))"
   ]
  },
  {
   "cell_type": "code",
   "execution_count": 14,
   "id": "412ba4f8-cc9f-4b5e-917d-c1ab50bbea3a",
   "metadata": {
    "tags": []
   },
   "outputs": [
    {
     "name": "stderr",
     "output_type": "stream",
     "text": [
      "/tmp/ipykernel_62/2428515937.py:6: DeprecationWarning: The qiskit.IBMQ entrypoint and the qiskit-ibmq-provider package (accessible from 'qiskit.providers.ibmq`) are deprecated and will be removed in a future release. Instead you should use the qiskit-ibm-provider package which is accessible from 'qiskit_ibm_provider'. You can install it with 'pip install qiskit_ibm_provider'. Just replace 'qiskit.IBMQ' with 'qiskit_ibm_provider.IBMProvider'\n",
      "  IBMQ.load_account()\n"
     ]
    },
    {
     "name": "stdout",
     "output_type": "stream",
     "text": [
      "least busy backend:  ibmq_quito\n"
     ]
    }
   ],
   "source": [
    "from qiskit import IBMQ\n",
    "from qiskit.providers.ibmq import least_busy\n",
    "shots = 1024\n",
    "\n",
    "# Load local account information\n",
    "IBMQ.load_account()\n",
    "# Get the least busy backend\n",
    "provider = IBMQ.get_provider(hub='ibm-q')\n",
    "backend = least_busy(provider.backends(filters=lambda x: x.configuration().n_qubits >= 2 \n",
    "                                       and not x.configuration().simulator \n",
    "                                       and x.status().operational==True))\n",
    "print(\"least busy backend: \", backend)\n",
    "# Run our circuit\n",
    "t_qc = transpile(qc, backend, optimization_level=3)\n",
    "job = backend.run(t_qc)"
   ]
  },
  {
   "cell_type": "code",
   "execution_count": 15,
   "id": "e699fc6c-9dc7-4d6e-ad2a-70fb4eadaac8",
   "metadata": {
    "tags": []
   },
   "outputs": [
    {
     "name": "stdout",
     "output_type": "stream",
     "text": [
      "Job Status: job has successfully run\n"
     ]
    }
   ],
   "source": [
    "# Monitoring our job\n",
    "from qiskit.tools.monitor import job_monitor\n",
    "job_monitor(job)"
   ]
  },
  {
   "cell_type": "code",
   "execution_count": 16,
   "id": "b426c6da-7d8d-4d4a-b021-90c04039f869",
   "metadata": {
    "tags": []
   },
   "outputs": [
    {
     "data": {
      "image/png": "[encoded data removed]",
      "text/plain": [
       "<Figure size 700x500 with 1 Axes>"
      ]
     },
     "execution_count": 16,
     "metadata": {},
     "output_type": "execute_result"
    }
   ],
   "source": [
    "# Plotting our result\n",
    "result = job.result()\n",
    "plot_histogram(result.get_counts(qc))"
   ]
  },
  {
   "cell_type": "code",
   "execution_count": 18,
   "id": "e33df568-bb25-4c6a-9de3-28839165c916",
   "metadata": {
    "tags": []
   },
   "outputs": [
    {
     "name": "stdout",
     "output_type": "stream",
     "text": [
      "Depth :  23\n",
      "Operations:  OrderedDict([('cry', 12), ('cx', 8), ('barrier', 5), ('x', 4), ('measure', 3), ('h', 2)])\n"
     ]
    }
   ],
   "source": [
    "print(\"Depth : \", qc.depth())\n",
    "print(\"Operations: \", qc.count_ops())"
   ]
  },
  {
   "cell_type": "code",
   "execution_count": 19,
   "id": "fcd23be3-ff2c-46d1-810e-d1bfa553dfd5",
   "metadata": {
    "tags": []
   },
   "outputs": [
    {
     "name": "stdout",
     "output_type": "stream",
     "text": [
      "        ┌─────────────┐ ░                                                  »\n",
      "   q_0: ┤ U3(π/2,0,π) ├─░────────────────■─────────────────■────────■──────»\n",
      "        ├─────────────┤ ░                │                 │      ┌─┴─┐    »\n",
      "   q_1: ┤ U3(π/2,0,π) ├─░────────────────┼─────────────────┼──────┤ X ├────»\n",
      "        └─────────────┘ ░ ┌───────────┐┌─┴─┐┌───────────┐┌─┴─┐┌───┴───┴───┐»\n",
      "   q_2: ────────────────░─┤ U3(0,0,0) ├┤ X ├┤ U3(0,0,0) ├┤ X ├┤ U3(0,0,0) ├»\n",
      "                        ░ └───────────┘└───┘└───────────┘└───┘└───────────┘»\n",
      "meas: 3/═══════════════════════════════════════════════════════════════════»\n",
      "                                                                           »\n",
      "«                                                                    ░ »\n",
      "«   q_0: ─────────────────────────────■──────────────────────────────░─»\n",
      "«                                   ┌─┴─┐                            ░ »\n",
      "«   q_1: ──■─────────────────■──────┤ X ├──────■─────────────────■───░─»\n",
      "«        ┌─┴─┐┌───────────┐┌─┴─┐┌───┴───┴───┐┌─┴─┐┌───────────┐┌─┴─┐ ░ »\n",
      "«   q_2: ┤ X ├┤ U3(0,0,0) ├┤ X ├┤ U3(0,0,0) ├┤ X ├┤ U3(0,0,0) ├┤ X ├─░─»\n",
      "«        └───┘└───────────┘└───┘└───────────┘└───┘└───────────┘└───┘ ░ »\n",
      "«meas: 3/══════════════════════════════════════════════════════════════»\n",
      "«                                                                      »\n",
      "«                                                                           »\n",
      "«   q_0: ───────────────■─────────────────■────────■────────────────────────»\n",
      "«        ┌───────────┐  │                 │      ┌─┴─┐                      »\n",
      "«   q_1: ┤ U3(π,0,π) ├──┼─────────────────┼──────┤ X ├──────■───────────────»\n",
      "«        ├───────────┤┌─┴─┐┌───────────┐┌─┴─┐┌───┴───┴───┐┌─┴─┐┌───────────┐»\n",
      "«   q_2: ┤ U3(0,0,0) ├┤ X ├┤ U3(0,0,0) ├┤ X ├┤ U3(0,0,0) ├┤ X ├┤ U3(0,0,0) ├»\n",
      "«        └───────────┘└───┘└───────────┘└───┘└───────────┘└───┘└───────────┘»\n",
      "«meas: 3/═══════════════════════════════════════════════════════════════════»\n",
      "«                                                                           »\n",
      "«                                                  ░ ┌───────────┐     »\n",
      "«   q_0: ───────────■──────────────────────────────░─┤ U3(π,0,π) ├──■──»\n",
      "«                 ┌─┴─┐                            ░ ├───────────┤  │  »\n",
      "«   q_1: ──■──────┤ X ├──────■─────────────────■───░─┤ U3(π,0,π) ├──┼──»\n",
      "«        ┌─┴─┐┌───┴───┴───┐┌─┴─┐┌───────────┐┌─┴─┐ ░ ├───────────┤┌─┴─┐»\n",
      "«   q_2: ┤ X ├┤ U3(0,0,0) ├┤ X ├┤ U3(0,0,0) ├┤ X ├─░─┤ U3(0,0,0) ├┤ X ├»\n",
      "«        └───┘└───────────┘└───┘└───────────┘└───┘ ░ └───────────┘└───┘»\n",
      "«meas: 3/══════════════════════════════════════════════════════════════»\n",
      "«                                                                      »\n",
      "«                                                                           »\n",
      "«   q_0: ───────────────■────────■───────────────────────────────────■──────»\n",
      "«                       │      ┌─┴─┐                               ┌─┴─┐    »\n",
      "«   q_1: ───────────────┼──────┤ X ├──────■─────────────────■──────┤ X ├────»\n",
      "«        ┌───────────┐┌─┴─┐┌───┴───┴───┐┌─┴─┐┌───────────┐┌─┴─┐┌───┴───┴───┐»\n",
      "«   q_2: ┤ U3(0,0,0) ├┤ X ├┤ U3(0,0,0) ├┤ X ├┤ U3(0,0,0) ├┤ X ├┤ U3(0,0,0) ├»\n",
      "«        └───────────┘└───┘└───────────┘└───┘└───────────┘└───┘└───────────┘»\n",
      "«meas: 3/═══════════════════════════════════════════════════════════════════»\n",
      "«                                                                           »\n",
      "«                                ░                                     »\n",
      "«   q_0: ────────────────────────░────────────────■─────────────────■──»\n",
      "«                                ░ ┌───────────┐  │                 │  »\n",
      "«   q_1: ──■─────────────────■───░─┤ U3(π,0,π) ├──┼─────────────────┼──»\n",
      "«        ┌─┴─┐┌───────────┐┌─┴─┐ ░ ├───────────┤┌─┴─┐┌───────────┐┌─┴─┐»\n",
      "«   q_2: ┤ X ├┤ U3(0,0,0) ├┤ X ├─░─┤ U3(0,0,0) ├┤ X ├┤ U3(0,0,0) ├┤ X ├»\n",
      "«        └───┘└───────────┘└───┘ ░ └───────────┘└───┘└───────────┘└───┘»\n",
      "«meas: 3/══════════════════════════════════════════════════════════════»\n",
      "«                                                                      »\n",
      "«                                                                           »\n",
      "«   q_0: ──────■───────────────────────────────────■────────────────────────»\n",
      "«            ┌─┴─┐                               ┌─┴─┐                      »\n",
      "«   q_1: ────┤ X ├──────■─────────────────■──────┤ X ├──────■───────────────»\n",
      "«        ┌───┴───┴───┐┌─┴─┐┌───────────┐┌─┴─┐┌───┴───┴───┐┌─┴─┐┌───────────┐»\n",
      "«   q_2: ┤ U3(0,0,0) ├┤ X ├┤ U3(0,0,0) ├┤ X ├┤ U3(0,0,0) ├┤ X ├┤ U3(0,0,0) ├»\n",
      "«        └───────────┘└───┘└───────────┘└───┘└───────────┘└───┘└───────────┘»\n",
      "«meas: 3/═══════════════════════════════════════════════════════════════════»\n",
      "«                                                                           »\n",
      "«              ░ ┌─┐      \n",
      "«   q_0: ──────░─┤M├──────\n",
      "«              ░ └╥┘┌─┐   \n",
      "«   q_1: ──■───░──╫─┤M├───\n",
      "«        ┌─┴─┐ ░  ║ └╥┘┌─┐\n",
      "«   q_2: ┤ X ├─░──╫──╫─┤M├\n",
      "«        └───┘ ░  ║  ║ └╥┘\n",
      "«meas: 3/═════════╩══╩══╩═\n",
      "«                 0  1  2 \n"
     ]
    }
   ],
   "source": [
    "from qiskit.compiler import transpile\n",
    "from qiskit.transpiler import PassManager\n",
    "from qiskit.transpiler.passes import Unroller\n",
    "pass_ = Unroller(['u3', 'cx'])\n",
    "pm = PassManager(pass_)\n",
    "new_circ = pm.run(qc)\n",
    "print(new_circ)"
   ]
  },
  {
   "cell_type": "code",
   "execution_count": 20,
   "id": "f6f04531-3696-4c82-a2c3-1a948927cd3b",
   "metadata": {
    "tags": []
   },
   "outputs": [
    {
     "name": "stdout",
     "output_type": "stream",
     "text": [
      "Depth :  50\n",
      "Operations:  OrderedDict([('cx', 32), ('u3', 30), ('barrier', 5), ('measure', 3)])\n"
     ]
    }
   ],
   "source": [
    "print(\"Depth : \", new_circ.depth())\n",
    "print(\"Operations: \", new_circ.count_ops())"
   ]
  },
  {
   "cell_type": "code",
   "execution_count": null,
   "id": "a74c1241-3ada-4c5c-80fd-7bf8cdebdf05",
   "metadata": {},
   "outputs": [],
   "source": []
  }
 ],
 "metadata": {
  "kernelspec": {
   "display_name": "Python 3 (ipykernel)",
   "language": "python",
   "name": "python3"
  },
  "language_info": {
   "codemirror_mode": {
    "name": "ipython",
    "version": 3
   },
   "file_extension": ".py",
   "mimetype": "text/x-python",
   "name": "python",
   "nbconvert_exporter": "python",
   "pygments_lexer": "ipython3",
   "version": "3.10.8"
  },
  "widgets": {
   "application/vnd.jupyter.widget-state+json": {
    "state": {
     "00d4d0eea17941669472d46ecac82a74": {
      "model_module": "@jupyter-widgets/controls",
      "model_module_version": "2.0.0",
      "model_name": "HTMLStyleModel",
      "state": {
       "description_width": "",
       "font_size": null,
       "text_color": null
      }
     },
     "021225f14ef84efb839e689a7acbae63": {
      "model_module": "@jupyter-widgets/controls",
      "model_module_version": "2.0.0",
      "model_name": "HTMLStyleModel",
      "state": {
       "description_width": "",
       "font_size": null,
       "text_color": null
      }
     },
     "17595f1f602b43c681ae6393eab7e09c": {
      "model_module": "@jupyter-widgets/base",
      "model_module_version": "2.0.0",
      "model_name": "LayoutModel",
      "state": {
       "width": "95px"
      }
     },
     "187cbd91609b4c8cad03750dee30ef0c": {
      "model_module": "@jupyter-widgets/base",
      "model_module_version": "2.0.0",
      "model_name": "LayoutModel",
      "state": {
       "margin": "0px 0px 0px 37px",
       "width": "600px"
      }
     },
     "18a8c5a5910c414daddfe74491ef305c": {
      "model_module": "@jupyter-widgets/base",
      "model_module_version": "2.0.0",
      "model_name": "LayoutModel",
      "state": {
       "width": "190px"
      }
     },
     "1c0b09e68f4043fdb5182e8e592f47a8": {
      "model_module": "@jupyter-widgets/controls",
      "model_module_version": "2.0.0",
      "model_name": "HTMLModel",
      "state": {
       "layout": "IPY_MODEL_eac3a935ce3b405f84b5bb28ecab541a",
       "style": "IPY_MODEL_f2c573f458f54fe6bf9740d9cc4dcadd",
       "value": "<h5>Job ID</h5>"
      }
     },
     "20418ed417674ec0963a52eb2bf59ade": {
      "model_module": "@jupyter-widgets/controls",
      "model_module_version": "2.0.0",
      "model_name": "HTMLStyleModel",
      "state": {
       "description_width": "",
       "font_size": null,
       "text_color": null
      }
     },
     "21d92e8a50ac406bb73d532c70b354c6": {
      "model_module": "@jupyter-widgets/controls",
      "model_module_version": "2.0.0",
      "model_name": "HTMLStyleModel",
      "state": {
       "description_width": "",
       "font_size": null,
       "text_color": null
      }
     },
     "280f6624a5854d56a213539ad6c30559": {
      "model_module": "@jupyter-widgets/controls",
      "model_module_version": "2.0.0",
      "model_name": "HTMLModel",
      "state": {
       "layout": "IPY_MODEL_e842f45a610e464cac03c7d62a167d31",
       "style": "IPY_MODEL_f4e4bd1c31214fa587687200cd6f0be7",
       "value": "job has successfully run"
      }
     },
     "288ae0dce6b1460f9d07d7ecfa78aaf3": {
      "model_module": "@jupyter-widgets/controls",
      "model_module_version": "2.0.0",
      "model_name": "HTMLModel",
      "state": {
       "layout": "IPY_MODEL_cd8a9521aaf54805afd414f4dd7cc837",
       "style": "IPY_MODEL_21d92e8a50ac406bb73d532c70b354c6",
       "value": "<p style='font-family: IBM Plex Sans, Arial, Helvetica, sans-serif; font-size: 20px; font-weight: medium;'>Circuit Properties</p>"
      }
     },
     "2a7d14e9dba3439a92d5e6f7087e95c3": {
      "model_module": "@jupyter-widgets/base",
      "model_module_version": "2.0.0",
      "model_name": "LayoutModel",
      "state": {}
     },
     "2ddfddeacf0d4bd1a6eec6b22b724bf0": {
      "model_module": "@jupyter-widgets/base",
      "model_module_version": "2.0.0",
      "model_name": "LayoutModel",
      "state": {
       "width": "145px"
      }
     },
     "33ea2d42341545f88e51bf4170c5bf03": {
      "model_module": "@jupyter-widgets/controls",
      "model_module_version": "2.0.0",
      "model_name": "HTMLModel",
      "state": {
       "layout": "IPY_MODEL_2a7d14e9dba3439a92d5e6f7087e95c3",
       "style": "IPY_MODEL_c2f2b02a0dcf47a4a2aa9c656867da38",
       "value": "<h5>Message</h5>"
      }
     },
     "367eb705ca7245dd902cce22bab2dc21": {
      "model_module": "@jupyter-widgets/base",
      "model_module_version": "2.0.0",
      "model_name": "LayoutModel",
      "state": {
       "grid_area": "right",
       "padding": "0px 0px 0px 0px",
       "width": "70px"
      }
     },
     "40067cb9766c4374bb973688e64429b4": {
      "model_module": "@jupyter-widgets/controls",
      "model_module_version": "2.0.0",
      "model_name": "HTMLModel",
      "state": {
       "layout": "IPY_MODEL_c063f026e096429da77415594ae708c8",
       "style": "IPY_MODEL_d0c7903b95a943e9a748aced89237d74",
       "value": "<font style='color:#34BC6E'>DONE</font>"
      }
     },
     "5869c63a15324dee9316109abf5ef1ac": {
      "model_module": "@jupyter-widgets/base",
      "model_module_version": "2.0.0",
      "model_name": "LayoutModel",
      "state": {
       "max_width": "700px",
       "min_width": "700px"
      }
     },
     "5e2b230aaa624f1da620aabb8b5d0b9a": {
      "model_module": "@jupyter-widgets/controls",
      "model_module_version": "2.0.0",
      "model_name": "HTMLStyleModel",
      "state": {
       "description_width": "",
       "font_size": null,
       "text_color": null
      }
     },
     "6828d97675934461af7fbaf315183653": {
      "model_module": "@jupyter-widgets/controls",
      "model_module_version": "2.0.0",
      "model_name": "HBoxModel",
      "state": {
       "children": [
        "IPY_MODEL_bbddbeb3e4f2418a98921f838ca7a2ca",
        "IPY_MODEL_9627acc0ffed46388a3ccb1864dec688",
        "IPY_MODEL_e3b68046925a4533b15ea29cdb71b650",
        "IPY_MODEL_40067cb9766c4374bb973688e64429b4",
        "IPY_MODEL_c3dc65054666477c98a4e21c9a060dd4",
        "IPY_MODEL_280f6624a5854d56a213539ad6c30559"
       ],
       "layout": "IPY_MODEL_5869c63a15324dee9316109abf5ef1ac"
      }
     },
     "6ede891998e3419a848a131f1746cf99": {
      "model_module": "@jupyter-widgets/controls",
      "model_module_version": "2.0.0",
      "model_name": "HTMLStyleModel",
      "state": {
       "description_width": "",
       "font_size": null,
       "text_color": null
      }
     },
     "7257545bbc204ba4a955d65027cb3071": {
      "model_module": "@jupyter-widgets/controls",
      "model_module_version": "2.0.0",
      "model_name": "ButtonModel",
      "state": {
       "button_style": "primary",
       "description": "Clear",
       "layout": "IPY_MODEL_367eb705ca7245dd902cce22bab2dc21",
       "style": "IPY_MODEL_e274b11c91a5458e85797280e4c629a7",
       "tooltip": null
      }
     },
     "8f0d88a975644160afe8c420de46a75c": {
      "model_module": "@jupyter-widgets/base",
      "model_module_version": "2.0.0",
      "model_name": "LayoutModel",
      "state": {
       "width": "70px"
      }
     },
     "9627acc0ffed46388a3ccb1864dec688": {
      "model_module": "@jupyter-widgets/controls",
      "model_module_version": "2.0.0",
      "model_name": "HTMLModel",
      "state": {
       "layout": "IPY_MODEL_18a8c5a5910c414daddfe74491ef305c",
       "style": "IPY_MODEL_021225f14ef84efb839e689a7acbae63",
       "value": "64330330b948bfa12fc25a0f"
      }
     },
     "a5cc677092c941789cc5381edb256f33": {
      "model_module": "@jupyter-widgets/controls",
      "model_module_version": "2.0.0",
      "model_name": "GridBoxModel",
      "state": {
       "children": [
        "IPY_MODEL_7257545bbc204ba4a955d65027cb3071"
       ],
       "layout": "IPY_MODEL_e8a8b4a8ff0f41f48a7cf97631b574ef"
      }
     },
     "bbddbeb3e4f2418a98921f838ca7a2ca": {
      "model_module": "@jupyter-widgets/controls",
      "model_module_version": "2.0.0",
      "model_name": "ButtonModel",
      "state": {
       "icon": "close",
       "layout": "IPY_MODEL_f1814c31b788436086217ad25b082efc",
       "style": "IPY_MODEL_c20936c458b444cf93117f97855f148c",
       "tooltip": null
      }
     },
     "c063f026e096429da77415594ae708c8": {
      "model_module": "@jupyter-widgets/base",
      "model_module_version": "2.0.0",
      "model_name": "LayoutModel",
      "state": {
       "width": "95px"
      }
     },
     "c20936c458b444cf93117f97855f148c": {
      "model_module": "@jupyter-widgets/controls",
      "model_module_version": "2.0.0",
      "model_name": "ButtonStyleModel",
      "state": {
       "button_color": "white",
       "font_family": null,
       "font_size": null,
       "font_style": null,
       "font_variant": null,
       "font_weight": null,
       "text_color": null,
       "text_decoration": null
      }
     },
     "c2f2b02a0dcf47a4a2aa9c656867da38": {
      "model_module": "@jupyter-widgets/controls",
      "model_module_version": "2.0.0",
      "model_name": "HTMLStyleModel",
      "state": {
       "description_width": "",
       "font_size": null,
       "text_color": null
      }
     },
     "c3dc65054666477c98a4e21c9a060dd4": {
      "model_module": "@jupyter-widgets/controls",
      "model_module_version": "2.0.0",
      "model_name": "HTMLModel",
      "state": {
       "layout": "IPY_MODEL_8f0d88a975644160afe8c420de46a75c",
       "style": "IPY_MODEL_6ede891998e3419a848a131f1746cf99",
       "value": "-"
      }
     },
     "c8db7c4cc9624b4083d1f5d6c9cb2d15": {
      "model_module": "@jupyter-widgets/controls",
      "model_module_version": "2.0.0",
      "model_name": "HTMLModel",
      "state": {
       "layout": "IPY_MODEL_e5efeb73bf5149049b50b26dee3d861d",
       "style": "IPY_MODEL_00d4d0eea17941669472d46ecac82a74",
       "value": "<h5>Queue</h5>"
      }
     },
     "cd8a9521aaf54805afd414f4dd7cc837": {
      "model_module": "@jupyter-widgets/base",
      "model_module_version": "2.0.0",
      "model_name": "LayoutModel",
      "state": {
       "margin": "0px 0px 10px 0px"
      }
     },
     "ce8ecf06d7ea410abb11349c34d5aff9": {
      "model_module": "@jupyter-widgets/controls",
      "model_module_version": "2.0.0",
      "model_name": "HTMLModel",
      "state": {
       "layout": "IPY_MODEL_17595f1f602b43c681ae6393eab7e09c",
       "style": "IPY_MODEL_e2ee2271aea14f3f9d166978355a9cb6",
       "value": "<h5>Status</h5>"
      }
     },
     "d0c7903b95a943e9a748aced89237d74": {
      "model_module": "@jupyter-widgets/controls",
      "model_module_version": "2.0.0",
      "model_name": "HTMLStyleModel",
      "state": {
       "description_width": "",
       "font_size": null,
       "text_color": null
      }
     },
     "d4279224aa714db7a50df4de9a91f693": {
      "model_module": "@jupyter-widgets/base",
      "model_module_version": "2.0.0",
      "model_name": "LayoutModel",
      "state": {
       "width": "145px"
      }
     },
     "e0c916bc86c443ba908be40dc54b78a2": {
      "model_module": "@jupyter-widgets/controls",
      "model_module_version": "2.0.0",
      "model_name": "HTMLModel",
      "state": {
       "layout": "IPY_MODEL_2ddfddeacf0d4bd1a6eec6b22b724bf0",
       "style": "IPY_MODEL_20418ed417674ec0963a52eb2bf59ade",
       "value": "<h5>Backend</h5>"
      }
     },
     "e274b11c91a5458e85797280e4c629a7": {
      "model_module": "@jupyter-widgets/controls",
      "model_module_version": "2.0.0",
      "model_name": "ButtonStyleModel",
      "state": {
       "font_family": null,
       "font_size": null,
       "font_style": null,
       "font_variant": null,
       "font_weight": null,
       "text_color": null,
       "text_decoration": null
      }
     },
     "e2ee2271aea14f3f9d166978355a9cb6": {
      "model_module": "@jupyter-widgets/controls",
      "model_module_version": "2.0.0",
      "model_name": "HTMLStyleModel",
      "state": {
       "description_width": "",
       "font_size": null,
       "text_color": null
      }
     },
     "e3b68046925a4533b15ea29cdb71b650": {
      "model_module": "@jupyter-widgets/controls",
      "model_module_version": "2.0.0",
      "model_name": "HTMLModel",
      "state": {
       "layout": "IPY_MODEL_d4279224aa714db7a50df4de9a91f693",
       "style": "IPY_MODEL_5e2b230aaa624f1da620aabb8b5d0b9a",
       "value": "ibmq_quito"
      }
     },
     "e5efeb73bf5149049b50b26dee3d861d": {
      "model_module": "@jupyter-widgets/base",
      "model_module_version": "2.0.0",
      "model_name": "LayoutModel",
      "state": {
       "width": "70px"
      }
     },
     "e842f45a610e464cac03c7d62a167d31": {
      "model_module": "@jupyter-widgets/base",
      "model_module_version": "2.0.0",
      "model_name": "LayoutModel",
      "state": {}
     },
     "e8a8b4a8ff0f41f48a7cf97631b574ef": {
      "model_module": "@jupyter-widgets/base",
      "model_module_version": "2.0.0",
      "model_name": "LayoutModel",
      "state": {
       "grid_template_areas": "\n                                       \". . . . right \"\n                                        ",
       "grid_template_columns": "20% 20% 20% 20% 20%",
       "width": "100%"
      }
     },
     "eac3a935ce3b405f84b5bb28ecab541a": {
      "model_module": "@jupyter-widgets/base",
      "model_module_version": "2.0.0",
      "model_name": "LayoutModel",
      "state": {
       "width": "190px"
      }
     },
     "f1814c31b788436086217ad25b082efc": {
      "model_module": "@jupyter-widgets/base",
      "model_module_version": "2.0.0",
      "model_name": "LayoutModel",
      "state": {
       "margin": "0px 5px 0px 0px",
       "width": "32px"
      }
     },
     "f2c573f458f54fe6bf9740d9cc4dcadd": {
      "model_module": "@jupyter-widgets/controls",
      "model_module_version": "2.0.0",
      "model_name": "HTMLStyleModel",
      "state": {
       "description_width": "",
       "font_size": null,
       "text_color": null
      }
     },
     "f4e4bd1c31214fa587687200cd6f0be7": {
      "model_module": "@jupyter-widgets/controls",
      "model_module_version": "2.0.0",
      "model_name": "HTMLStyleModel",
      "state": {
       "description_width": "",
       "font_size": null,
       "text_color": null
      }
     },
     "fbf8de96efae484f83c5081a476ed3bb": {
      "model_module": "@jupyter-widgets/controls",
      "model_module_version": "2.0.0",
      "model_name": "HBoxModel",
      "state": {
       "children": [
        "IPY_MODEL_1c0b09e68f4043fdb5182e8e592f47a8",
        "IPY_MODEL_e0c916bc86c443ba908be40dc54b78a2",
        "IPY_MODEL_ce8ecf06d7ea410abb11349c34d5aff9",
        "IPY_MODEL_c8db7c4cc9624b4083d1f5d6c9cb2d15",
        "IPY_MODEL_33ea2d42341545f88e51bf4170c5bf03"
       ],
       "layout": "IPY_MODEL_187cbd91609b4c8cad03750dee30ef0c"
      }
     }
    },
    "version_major": 2,
    "version_minor": 0
   }
  }
 },
 "nbformat": 4,
 "nbformat_minor": 5
}
